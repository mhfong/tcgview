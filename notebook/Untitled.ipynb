{
 "cells": [
  {
   "cell_type": "code",
   "execution_count": 2,
   "id": "27bd4cec-d13b-4aa8-9937-74eba6e4c55f",
   "metadata": {},
   "outputs": [],
   "source": [
    "import asyncio, nest_asyncio, re, datetime\n",
    "from pyppeteer import launch\n",
    "import pandas as pd\n",
    "\n",
    "nest_asyncio.apply()"
   ]
  },
  {
   "cell_type": "code",
   "execution_count": 4,
   "id": "bfc8b5bf-f976-48f0-8468-611144bb1317",
   "metadata": {},
   "outputs": [],
   "source": [
    "def extract_ptcg_rarity_and_card_name(content):\n",
    "    pattern = r'(UR|AR|SR|SAR)\\s+[^\\s\\n]+'\n",
    "    match = re.search(pattern, content)\n",
    "    if match.group():\n",
    "        return match.group().split(' ')[0], match.group().split(' ')[1]\n",
    "    return None\n",
    "\n",
    "def extract_ptcg_card_index(content):\n",
    "    pattern = r'\\d{3}/\\d{3}'\n",
    "    match = re.search(pattern, content)\n",
    "    if match:\n",
    "        return match.group()\n",
    "    return None\n",
    "\n",
    "def extract_card_price(content):\n",
    "    pattern = r'\\d{1,3}(?:,\\d{3})* 円'\n",
    "    match = re.search(pattern, content)\n",
    "    if match:\n",
    "        price_str = match.group()\n",
    "        return int(price_str.replace(',', '').replace(' 円', ''))\n",
    "    return None\n",
    "    \n",
    "async def extract_content(tcg_type, card_set, i):\n",
    "    browser = await launch(headless=True)\n",
    "    try:\n",
    "        page = await browser.newPage()\n",
    "        await page.goto(f'https://yuyu-tei.jp/sell/{tcg_type}/card/{card_set}/{i}', timeout=120000)\n",
    "        await page.waitForSelector('.fw-bold', timeout=120000)\n",
    "        print(f'https://yuyu-tei.jp/sell/{tcg_type}/card/{card_set}/{i}')\n",
    "        fw_bold_texts = await page.evaluate('''() => {\n",
    "            const boldElements = document.querySelectorAll('.fw-bold');\n",
    "            return Array.from(boldElements).map(element => element.innerText).join('\\\\n');\n",
    "        }''')\n",
    "        return fw_bold_texts\n",
    "    except Exception as e:\n",
    "        print(f\"Error for {card_set}/{i}: {e}\")\n",
    "        return None\n",
    "    finally:\n",
    "        await browser.close()\n",
    "        \n",
    "async def get_links(vers, rarity):\n",
    "    browser = await launch(headless=True)\n",
    "    try:\n",
    "        page = await browser.newPage()\n",
    "        await page.goto(f'https://yuyu-tei.jp/sell/poc/s/search?search_word={vers}&rare={rarity}&type=&kizu=0', timeout=120000)\n",
    "        hyperlinks = await page.evaluate('''() => {\n",
    "            const links = document.querySelectorAll('a');\n",
    "            return Array.from(links).map(link => link.href);\n",
    "        }''')\n",
    "        return hyperlinks\n",
    "    except Exception as e:\n",
    "        print(f\"Error: {e}\")\n",
    "        return None\n",
    "    finally:\n",
    "        await browser.close()\n"
   ]
  },
  {
   "cell_type": "code",
   "execution_count": null,
   "id": "5646f5df-774b-4c00-92b1-6ff3f85c5a6e",
   "metadata": {},
   "outputs": [],
   "source": [
    "links = []\n",
    "for rarity in ptcg_rarity_table.keys():\n",
    "    links += asyncio.run(get_links(''.join('&vers%5B%5D=' + i for i in ptcg_rarity_table[rarity]), rarity))\n",
    "    \n",
    "links = list(set([l for l in links if 'card' in l]))\n",
    "sorted_links = sorted(links, key=lambda x: (x.split('/card/')[1].split('/')[0], int(x.split('/')[-1])))\n",
    "len(sorted_links)"
   ]
  },
  {
   "cell_type": "code",
   "execution_count": null,
   "id": "672ee870-6926-490f-85ab-91cafa99af7e",
   "metadata": {},
   "outputs": [],
   "source": [
    "sorted_links"
   ]
  },
  {
   "cell_type": "code",
   "execution_count": null,
   "id": "d6d222f4-e410-4a28-b701-e48d88f774ac",
   "metadata": {},
   "outputs": [],
   "source": [
    "pkm_df = pd.DataFrame(columns=['card_set','card_rarity', 'card_name', 'card_index', 'card_price', 'created_time'])\n",
    "idx=0\n",
    "\n",
    "for link in sorted_links:\n",
    "    idx += 1\n",
    "    tcg_type = link.split('/')[-4]\n",
    "    card_set = link.split('/')[-2]\n",
    "    i = link.split('/')[-1]\n",
    "    print(f'{idx}/{len(sorted_links)}')\n",
    "    content = asyncio.run(extract_content(tcg_type, card_set, i))\n",
    "    try:\n",
    "        card_rarity, card_name = extract_ptcg_rarity_and_card_name(content)\n",
    "    except:\n",
    "        continue\n",
    "    card_index = extract_ptcg_card_index(content)\n",
    "    card_price = extract_card_price(content)\n",
    "    created_time = datetime.datetime.now().strftime('%Y-%m-%d %H:%M:%S')\n",
    "    pkm_df.loc[len(pkm_df)] = [card_set, card_rarity, card_name, card_index, card_price, created_time]"
   ]
  },
  {
   "cell_type": "code",
   "execution_count": 5,
   "id": "eb4c359d-8aa6-4f1c-8d6d-cf22e481a6ef",
   "metadata": {},
   "outputs": [
    {
     "name": "stdout",
     "output_type": "stream",
     "text": [
      "https://yuyu-tei.jp/sell/poc/card/svg/10050\n"
     ]
    }
   ],
   "source": [
    "content = asyncio.run(extract_content('poc', 'svg', 10050))"
   ]
  },
  {
   "cell_type": "code",
   "execution_count": 9,
   "id": "ae5cbdbf-b97a-4d4d-b66b-486dae5938a9",
   "metadata": {},
   "outputs": [
    {
     "data": {
      "text/plain": [
       "47"
      ]
     },
     "execution_count": 9,
     "metadata": {},
     "output_type": "execute_result"
    }
   ],
   "source": [
    "ptcg_rarity_table = {\n",
    "    'S-TD': ['svg']\n",
    "}\n",
    "links = []\n",
    "for rarity in ptcg_rarity_table.keys():\n",
    "    links += asyncio.run(get_links(''.join('&vers%5B%5D=' + i for i in ptcg_rarity_table[rarity]), rarity))\n",
    "    \n",
    "links = list(set([l for l in links if 'card' in l]))\n",
    "sorted_links = sorted(links, key=lambda x: (x.split('/card/')[1].split('/')[0], int(x.split('/')[-1])))\n",
    "len(sorted_links)"
   ]
  },
  {
   "cell_type": "code",
   "execution_count": null,
   "id": "9acad553-c342-4f91-806e-fc4a2498113d",
   "metadata": {},
   "outputs": [],
   "source": []
  },
  {
   "cell_type": "code",
   "execution_count": 7,
   "id": "b5f692ac-aa59-4054-a7e1-f75eda54dc6f",
   "metadata": {},
   "outputs": [
    {
     "ename": "AttributeError",
     "evalue": "'NoneType' object has no attribute 'group'",
     "output_type": "error",
     "traceback": [
      "\u001b[0;31m---------------------------------------------------------------------------\u001b[0m",
      "\u001b[0;31mAttributeError\u001b[0m                            Traceback (most recent call last)",
      "Cell \u001b[0;32mIn[7], line 1\u001b[0m\n\u001b[0;32m----> 1\u001b[0m card_rarity, card_name \u001b[38;5;241m=\u001b[39m \u001b[43mextract_ptcg_rarity_and_card_name\u001b[49m\u001b[43m(\u001b[49m\u001b[43mcontent\u001b[49m\u001b[43m)\u001b[49m\n",
      "Cell \u001b[0;32mIn[4], line 4\u001b[0m, in \u001b[0;36mextract_ptcg_rarity_and_card_name\u001b[0;34m(content)\u001b[0m\n\u001b[1;32m      2\u001b[0m pattern \u001b[38;5;241m=\u001b[39m \u001b[38;5;124mr\u001b[39m\u001b[38;5;124m'\u001b[39m\u001b[38;5;124m(UR|AR|SR|SAR)\u001b[39m\u001b[38;5;124m\\\u001b[39m\u001b[38;5;124ms+[^\u001b[39m\u001b[38;5;124m\\\u001b[39m\u001b[38;5;124ms\u001b[39m\u001b[38;5;124m\\\u001b[39m\u001b[38;5;124mn]+\u001b[39m\u001b[38;5;124m'\u001b[39m\n\u001b[1;32m      3\u001b[0m match \u001b[38;5;241m=\u001b[39m re\u001b[38;5;241m.\u001b[39msearch(pattern, content)\n\u001b[0;32m----> 4\u001b[0m \u001b[38;5;28;01mif\u001b[39;00m \u001b[43mmatch\u001b[49m\u001b[38;5;241;43m.\u001b[39;49m\u001b[43mgroup\u001b[49m():\n\u001b[1;32m      5\u001b[0m     \u001b[38;5;28;01mreturn\u001b[39;00m match\u001b[38;5;241m.\u001b[39mgroup()\u001b[38;5;241m.\u001b[39msplit(\u001b[38;5;124m'\u001b[39m\u001b[38;5;124m \u001b[39m\u001b[38;5;124m'\u001b[39m)[\u001b[38;5;241m0\u001b[39m], match\u001b[38;5;241m.\u001b[39mgroup()\u001b[38;5;241m.\u001b[39msplit(\u001b[38;5;124m'\u001b[39m\u001b[38;5;124m \u001b[39m\u001b[38;5;124m'\u001b[39m)[\u001b[38;5;241m1\u001b[39m]\n\u001b[1;32m      6\u001b[0m \u001b[38;5;28;01mreturn\u001b[39;00m \u001b[38;5;28;01mNone\u001b[39;00m\n",
      "\u001b[0;31mAttributeError\u001b[0m: 'NoneType' object has no attribute 'group'"
     ]
    }
   ],
   "source": [
    "card_rarity, card_name = extract_ptcg_rarity_and_card_name(content)"
   ]
  },
  {
   "cell_type": "code",
   "execution_count": null,
   "id": "b269a74c-d5e5-4a4c-be81-c87c583b9dd5",
   "metadata": {},
   "outputs": [],
   "source": [
    "card_rarity"
   ]
  },
  {
   "cell_type": "code",
   "execution_count": null,
   "id": "0e48e4e4-fcc0-408d-a880-44b209d6c8c2",
   "metadata": {},
   "outputs": [],
   "source": [
    "card_name"
   ]
  },
  {
   "cell_type": "code",
   "execution_count": null,
   "id": "5e98c3fb-6759-4026-9409-bd7e41c5b515",
   "metadata": {},
   "outputs": [],
   "source": []
  },
  {
   "cell_type": "code",
   "execution_count": null,
   "id": "e72b5da3-fdd7-49ac-9b4e-7d9d09886609",
   "metadata": {},
   "outputs": [],
   "source": []
  },
  {
   "cell_type": "code",
   "execution_count": null,
   "id": "15d95d1e-6542-42e3-bb7a-9fbeba465287",
   "metadata": {},
   "outputs": [],
   "source": []
  },
  {
   "cell_type": "code",
   "execution_count": null,
   "id": "97517a9f-2844-4904-bb0f-54a25f0c9fad",
   "metadata": {},
   "outputs": [],
   "source": []
  },
  {
   "cell_type": "code",
   "execution_count": null,
   "id": "a4ca833f-f483-43db-bb88-4ca0a4f161e0",
   "metadata": {},
   "outputs": [],
   "source": []
  }
 ],
 "metadata": {
  "kernelspec": {
   "display_name": "Python 3 (ipykernel)",
   "language": "python",
   "name": "python3"
  },
  "language_info": {
   "codemirror_mode": {
    "name": "ipython",
    "version": 3
   },
   "file_extension": ".py",
   "mimetype": "text/x-python",
   "name": "python",
   "nbconvert_exporter": "python",
   "pygments_lexer": "ipython3",
   "version": "3.8.20"
  }
 },
 "nbformat": 4,
 "nbformat_minor": 5
}
