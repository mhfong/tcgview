{
 "cells": [
  {
   "cell_type": "code",
   "execution_count": 3,
   "id": "acf01ca0-ae7d-4cd1-aaf3-9f37e933814b",
   "metadata": {},
   "outputs": [
    {
     "name": "stderr",
     "output_type": "stream",
     "text": [
      "/opt/anaconda3/envs/tcgview/lib/python3.8/site-packages/pyppeteer/util.py:29: RuntimeWarning: coroutine 'main' was never awaited\n",
      "  gc.collect()\n",
      "RuntimeWarning: Enable tracemalloc to get the object allocation traceback\n"
     ]
    },
    {
     "name": "stdout",
     "output_type": "stream",
     "text": [
      "\n",
      "SP\n",
      "\n",
      "SP Card List\n",
      "SP\n"
     ]
    }
   ],
   "source": [
    "from pyppeteer import launch\n",
    "import asyncio, nest_asyncio, re, datetime\n",
    "\n",
    "nest_asyncio.apply()\n",
    "async def main():\n",
    "    browser = await launch(headless=True)\n",
    "    try:\n",
    "        page = await browser.newPage()\n",
    "        await page.goto('https://yuyu-tei.jp/sell/opc/s/op11', timeout=60000)\n",
    "        await page.waitForSelector('.fw-bold', timeout=60000)\n",
    "        \n",
    "        sp_card_texts = await page.evaluate('''() => {\n",
    "            const boldElements = document.querySelectorAll('.fw-bold');\n",
    "            return Array.from(boldElements)\n",
    "                .filter(element => element.innerText.includes('SP'))\n",
    "                .map(element => element.innerText)\n",
    "                .join('\\\\n');\n",
    "        }''')\n",
    "        \n",
    "        return sp_card_texts\n",
    "    \n",
    "    except Exception as e:\n",
    "        print(f\"Error: {e}\")\n",
    "        return None\n",
    "    finally:\n",
    "        await browser.close()\n",
    "\n",
    "if __name__ == \"__main__\":\n",
    "    result = asyncio.run(main())\n",
    "    print(result)"
   ]
  },
  {
   "cell_type": "code",
   "execution_count": null,
   "id": "84e98071-aebb-483c-8643-4bdb8ef88e41",
   "metadata": {},
   "outputs": [],
   "source": []
  },
  {
   "cell_type": "code",
   "execution_count": null,
   "id": "d1acbc96-1335-42fc-8a5b-8350afccd3c1",
   "metadata": {},
   "outputs": [],
   "source": []
  },
  {
   "cell_type": "code",
   "execution_count": null,
   "id": "540aca48-40eb-4cb3-9950-aa36232e21f8",
   "metadata": {},
   "outputs": [],
   "source": []
  },
  {
   "cell_type": "code",
   "execution_count": null,
   "id": "177e1a1c-0e62-4a5d-91f4-261d0f72ab2e",
   "metadata": {},
   "outputs": [],
   "source": []
  },
  {
   "cell_type": "code",
   "execution_count": null,
   "id": "4ddf5a2c-33ae-491e-a679-51c2dfa66eab",
   "metadata": {},
   "outputs": [],
   "source": []
  },
  {
   "cell_type": "code",
   "execution_count": null,
   "id": "15ab3b06-f1c1-4697-af22-d3eff362ba88",
   "metadata": {},
   "outputs": [],
   "source": []
  },
  {
   "cell_type": "code",
   "execution_count": null,
   "id": "cd8ea7c7-0485-4495-8243-4da78e15472b",
   "metadata": {},
   "outputs": [],
   "source": []
  },
  {
   "cell_type": "code",
   "execution_count": null,
   "id": "7730e808-c0a1-46b6-ae41-a9d8bbbfce98",
   "metadata": {},
   "outputs": [],
   "source": []
  },
  {
   "cell_type": "code",
   "execution_count": null,
   "id": "3498b318-64cd-4c18-9210-af41fea99966",
   "metadata": {},
   "outputs": [],
   "source": []
  },
  {
   "cell_type": "code",
   "execution_count": null,
   "id": "ff41caf3-9c0a-4669-aaba-2401b61ae690",
   "metadata": {},
   "outputs": [],
   "source": []
  }
 ],
 "metadata": {
  "kernelspec": {
   "display_name": "Python 3 (ipykernel)",
   "language": "python",
   "name": "python3"
  },
  "language_info": {
   "codemirror_mode": {
    "name": "ipython",
    "version": 3
   },
   "file_extension": ".py",
   "mimetype": "text/x-python",
   "name": "python",
   "nbconvert_exporter": "python",
   "pygments_lexer": "ipython3",
   "version": "3.8.20"
  }
 },
 "nbformat": 4,
 "nbformat_minor": 5
}
