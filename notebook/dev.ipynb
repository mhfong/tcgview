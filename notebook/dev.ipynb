{
 "cells": [
  {
   "cell_type": "code",
   "execution_count": 1,
   "id": "cfb5d8f5",
   "metadata": {},
   "outputs": [],
   "source": [
    "import asyncio, nest_asyncio, re, datetime\n",
    "from pyppeteer import launch\n",
    "import pandas as pd\n",
    "\n",
    "nest_asyncio.apply()"
   ]
  },
  {
   "cell_type": "code",
   "execution_count": 4,
   "id": "e677bd4f",
   "metadata": {},
   "outputs": [],
   "source": [
    "import asyncio\n",
    "import nest_asyncio\n",
    "from pyppeteer import launch\n",
    "\n",
    "def extract_rarity_and_card_name(content):\n",
    "    pattern = r'(UR|AR|SR|SAR)\\s+([^\\s\\n]+)'\n",
    "    matches = re.findall(pattern, content)\n",
    "    return matches[0][0], matches[0][1]\n",
    "\n",
    "def extract_card_index(content):\n",
    "    pattern = r'\\d{3}/\\d{3}'\n",
    "    match = re.search(pattern, content)\n",
    "    if match:\n",
    "        return match.group()\n",
    "    return None\n",
    "\n",
    "def extract_card_price(content):\n",
    "    pattern = r'\\d{1,3}(?:,\\d{3})* 円'\n",
    "    match = re.search(pattern, content)\n",
    "    if match:\n",
    "        price_str = match.group()\n",
    "        return int(price_str.replace(',', '').replace(' 円', ''))\n",
    "    return None\n",
    "\n",
    "async def main(i):\n",
    "    browser = await launch(headless=True) \n",
    "    page = await browser.newPage()\n",
    "\n",
    "    await page.goto(f'https://yuyu-tei.jp/sell/poc/card/sv09a/{i}')\n",
    "\n",
    "    await page.waitForSelector('.fw-bold')\n",
    "\n",
    "    fw_bold_texts = await page.evaluate('''() => {\n",
    "        const boldElements = document.querySelectorAll('.fw-bold');\n",
    "        return Array.from(boldElements).map(element => element.innerText).join('\\\\n');\n",
    "    }''')\n",
    "    await browser.close()\n",
    "    return fw_bold_texts"
   ]
  },
  {
   "cell_type": "code",
   "execution_count": 5,
   "id": "c170d1e8-23fc-4e65-86ed-f96af16d9e39",
   "metadata": {
    "scrolled": true
   },
   "outputs": [],
   "source": [
    "df = pd.DataFrame(columns=['card_rarity', 'card_name', 'card_index', 'card_price', 'created_time'])\n",
    "\n",
    "\n",
    "for i in range(10075,10092):\n",
    "    content = asyncio.run(main(i))\n",
    "    card_rarity, card_name = extract_rarity_and_card_name(content)\n",
    "    card_index = extract_card_index(content)\n",
    "    card_price = extract_card_price(content)\n",
    "    created_time = datetime.datetime.now().strftime('%Y-%m-%d %H:%M:%S')\n",
    "    df.loc[len(df)] = [card_rarity, card_name, card_index, card_price, created_time]\n"
   ]
  },
  {
   "cell_type": "code",
   "execution_count": 12,
   "id": "c3ad6d7d",
   "metadata": {},
   "outputs": [],
   "source": [
    "df.to_csv(f'../data/ptcg/{datetime.datetime.now().strftime(\"%Y%m%d\")}.csv', index=False)"
   ]
  },
  {
   "cell_type": "code",
   "execution_count": null,
   "id": "2b17da82-63ad-4b99-a854-fb6cf54a9949",
   "metadata": {},
   "outputs": [],
   "source": []
  },
  {
   "cell_type": "code",
   "execution_count": null,
   "id": "450779c1-87c4-4b7e-93a9-badd859491c0",
   "metadata": {},
   "outputs": [],
   "source": []
  },
  {
   "cell_type": "code",
   "execution_count": null,
   "id": "1ce35756-58a5-4539-84fd-0c0a1b119080",
   "metadata": {},
   "outputs": [],
   "source": []
  },
  {
   "cell_type": "code",
   "execution_count": null,
   "id": "ca0b722f-553c-4816-8840-acc2952d2c1c",
   "metadata": {},
   "outputs": [],
   "source": []
  },
  {
   "cell_type": "code",
   "execution_count": null,
   "id": "13004741-5404-45f3-a823-079d18474f23",
   "metadata": {},
   "outputs": [],
   "source": []
  },
  {
   "cell_type": "code",
   "execution_count": null,
   "id": "99fc916b-bd97-4081-82f3-4170bf4dc555",
   "metadata": {},
   "outputs": [],
   "source": []
  },
  {
   "cell_type": "code",
   "execution_count": null,
   "id": "7d5ee871",
   "metadata": {},
   "outputs": [],
   "source": []
  },
  {
   "cell_type": "code",
   "execution_count": null,
   "id": "81b829bd",
   "metadata": {},
   "outputs": [],
   "source": []
  },
  {
   "cell_type": "code",
   "execution_count": null,
   "id": "e081e7db",
   "metadata": {},
   "outputs": [],
   "source": []
  }
 ],
 "metadata": {
  "kernelspec": {
   "display_name": "Python 3 (ipykernel)",
   "language": "python",
   "name": "python3"
  },
  "language_info": {
   "codemirror_mode": {
    "name": "ipython",
    "version": 3
   },
   "file_extension": ".py",
   "mimetype": "text/x-python",
   "name": "python",
   "nbconvert_exporter": "python",
   "pygments_lexer": "ipython3",
   "version": "3.8.20"
  }
 },
 "nbformat": 4,
 "nbformat_minor": 5
}
